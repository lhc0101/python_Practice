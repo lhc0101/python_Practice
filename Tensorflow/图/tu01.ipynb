{
 "cells": [
  {
   "cell_type": "code",
   "execution_count": 5,
   "metadata": {
    "collapsed": true
   },
   "outputs": [],
   "source": [
    "import numpy as np\n",
    "import pandas as pd\n",
    "import matplotlib.pyplot as plt\n",
    "import seaborn as sns\n",
    "# 数据准备\n",
    "N = 1000\n",
    "x = np.random.randn(N)\n",
    "y = np.random.randn(N)\n",
    "# 用 Matplotlib 画散点图\n",
    "plt.scatter(x, y,marker='x')\n",
    "plt.show()\n",
    "# 用 Seaborn 画散点图\n",
    "df = pd.DataFrame({'x': x, 'y': y})\n",
    "sns.jointplot(x=\"x\", y=\"y\", data=df, kind='scatter');\n",
    "plt.show()"
   ]
  },
  {
   "cell_type": "code",
   "execution_count": 8,
   "metadata": {},
   "outputs": [],
   "source": [
    "# 这里我们设置了 x、y 的数组。x 数组代表时间（年），y 数组我们随便设置几个取值。\n",
    "import pandas as pd\n",
    "import matplotlib.pyplot as plt\n",
    "import seaborn as sns\n",
    "# 数据准备\n",
    "x = [2010, 2011, 2012, 2013, 2014, 2015, 2016, 2017, 2018, 2019]\n",
    "y = [5, 3, 6, 20, 17, 16, 19, 30, 32, 35]\n",
    "# 使用 Matplotlib 画折线图\n",
    "plt.plot(x, y)\n",
    "plt.show()\n",
    "# 使用 Seaborn 画折线图\n",
    "df = pd.DataFrame({'x': x, 'y': y})\n",
    "sns.lineplot(x=\"x\", y=\"y\", data=df)\n",
    "plt.show()\n"
   ]
  },
  {
   "cell_type": "code",
   "execution_count": 9,
   "metadata": {},
   "outputs": [],
   "source": [
    "import numpy as np\n",
    "import pandas as pd\n",
    "import matplotlib.pyplot as plt\n",
    "import seaborn as sns\n",
    "# 数据准备\n",
    "a = np.random.randn(100)\n",
    "s = pd.Series(a) \n",
    "# 用 Matplotlib 画直方图\n",
    "plt.hist(s)\n",
    "plt.show()\n",
    "# 用 Seaborn 画直方图\n",
    "sns.distplot(s, kde=False)\n",
    "plt.show()\n",
    "sns.distplot(s, kde=True)\n",
    "plt.show()\n"
   ]
  },
  {
   "cell_type": "code",
   "execution_count": 10,
   "metadata": {},
   "outputs": [],
   "source": [
    "import matplotlib.pyplot as plt\n",
    "import seaborn as sns\n",
    "# 数据准备\n",
    "x = ['Cat1', 'Cat2', 'Cat3', 'Cat4', 'Cat5']\n",
    "y = [5, 4, 8, 12, 7]\n",
    "# 用 Matplotlib 画条形图\n",
    "plt.bar(x, y)\n",
    "plt.show()\n",
    "# 用 Seaborn 画条形图\n",
    "sns.barplot(x, y)\n",
    "plt.show()"
   ]
  },
  {
   "cell_type": "code",
   "execution_count": 11,
   "metadata": {},
   "outputs": [],
   "source": [
    "# 数据准备\n",
    "# 生成 0-1 之间的 10*4 维度数据\n",
    "data=np.random.normal(size=(10,4)) \n",
    "lables = ['A','B','C','D']\n",
    "# 用 Matplotlib 画箱线图\n",
    "plt.boxplot(data,labels=lables)\n",
    "plt.show()\n",
    "# 用 Seaborn 画箱线图\n",
    "df = pd.DataFrame(data, columns=lables)\n",
    "sns.boxplot(data=df)\n",
    "plt.show()\n"
   ]
  },
  {
   "cell_type": "code",
   "execution_count": 12,
   "metadata": {},
   "outputs": [],
   "source": [
    "import matplotlib.pyplot as plt\n",
    "# 数据准备\n",
    "nums = [25, 37, 33, 37, 6]\n",
    "labels = ['High-school','Bachelor','Master','Ph.d', 'Others']\n",
    "# 用 Matplotlib 画饼图\n",
    "plt.pie(x = nums, labels=labels)\n",
    "plt.show()"
   ]
  },
  {
   "cell_type": "code",
   "execution_count": 13,
   "metadata": {},
   "outputs": [],
   "source": [
    "# 这里我们使用 Seaborn 中自带的数据集 flights，该数据集记录了 1949 年到 1960 年期间，每个月的航班乘客的数量。\n",
    "import matplotlib.pyplot as plt\n",
    "import seaborn as sns\n",
    "# 数据准备\n",
    "flights = sns.load_dataset(\"flights\")\n",
    "data=flights.pivot('year','month','passengers')\n",
    "# 用 Seaborn 画热力图\n",
    "sns.heatmap(data)\n",
    "plt.show()"
   ]
  },
  {
   "cell_type": "code",
   "execution_count": 14,
   "metadata": {},
   "outputs": [
    {
     "name": "stdout",
     "output_type": "stream",
     "text": [
      "   total_bill   tip     sex smoker  day    time  size\n0       16.99  1.01  Female     No  Sun  Dinner     2\n1       10.34  1.66    Male     No  Sun  Dinner     3\n2       21.01  3.50    Male     No  Sun  Dinner     3\n3       23.68  3.31    Male     No  Sun  Dinner     2\n4       24.59  3.61  Female     No  Sun  Dinner     4\n5       25.29  4.71    Male     No  Sun  Dinner     4\n6        8.77  2.00    Male     No  Sun  Dinner     2\n7       26.88  3.12    Male     No  Sun  Dinner     4\n8       15.04  1.96    Male     No  Sun  Dinner     2\n9       14.78  3.23    Male     No  Sun  Dinner     2\n"
     ]
    }
   ],
   "source": [
    "# 这里我们使用 Seaborn 中自带的数据集 tips，这个数据集记录了不同顾客在餐厅的消费账单及小费情况。\n",
    "# 代码中 total_bill 保存了客户的账单金额，tip 是该客户给出的小费金额。\n",
    "# 我们可以用 Seaborn 中的 jointplot 来探索这两个变量之间的关系。\n",
    "import matplotlib.pyplot as plt\n",
    "import seaborn as sns\n",
    "# 数据准备\n",
    "tips = sns.load_dataset(\"tips\")\n",
    "print(tips.head(10))\n",
    "# 用 Seaborn 画二元变量分布图（散点图，核密度图，Hexbin 图）\n",
    "sns.jointplot(x=\"total_bill\", y=\"tip\", data=tips, kind='scatter')\n",
    "sns.jointplot(x=\"total_bill\", y=\"tip\", data=tips, kind='kde')\n",
    "sns.jointplot(x=\"total_bill\", y=\"tip\", data=tips, kind='hex')\n",
    "plt.show()"
   ]
  },
  {
   "cell_type": "code",
   "execution_count": 15,
   "metadata": {},
   "outputs": [],
   "source": [
    "#这里我们使用 Seaborn 中自带的 iris 数据集，这个数据集也叫鸢尾花数据集。\n",
    "# 鸢尾花可以分成 Setosa、Versicolour 和 Virginica 三个品种，\n",
    "# 在这个数据集中，针对每一个品种，都有 50 个数据，每个数据中包括了 4 个属性，\n",
    "# 分别是花萼长度、花萼宽度、花瓣长度和花瓣宽度。\n",
    "# 通过这些数据，需要你来预测鸢尾花卉属于三个品种中的哪一种。\n",
    "import matplotlib.pyplot as plt\n",
    "import seaborn as sns\n",
    "# 数据准备\n",
    "iris = sns.load_dataset('iris')\n",
    "# 用 Seaborn 画成对关系\n",
    "sns.pairplot(iris)\n",
    "plt.show()\n"
   ]
  },
  {
   "cell_type": "code",
   "execution_count": 16,
   "metadata": {},
   "outputs": [],
   "source": [
    "# 这里我们需要使用 Matplotlib 来进行画图，首先设置两个数组：\n",
    "# labels 和 stats。他们分别保存了这些属性的名称和属性值。\n",
    "\n",
    "# 因为蜘蛛图是一个圆形，你需要计算每个坐标的角度，然后对这些数值进行设置。\n",
    "# 当画完最后一个点后，需要与第一个点进行连线。\n",
    "\n",
    "# 因为需要计算角度，所以我们要准备 angles 数组；又因为需要设定统计结果的数值，所以我们要设定 stats 数组。\n",
    "# 并且需要在原有 angles 和 stats 数组上增加一位，也就是添加数组的第一个元素。\n",
    "import numpy as np\n",
    "import matplotlib.pyplot as plt\n",
    "import seaborn as sns\n",
    "from matplotlib.font_manager import FontProperties  \n",
    "# 数据准备\n",
    "labels=np.array([u\" 推进 \",\"KDA\",u\" 生存 \",u\" 团战 \",u\" 发育 \",u\" 输出 \"])\n",
    "stats=[83, 61, 95, 67, 76, 88]\n",
    "# 画图数据准备，角度、状态值\n",
    "angles=np.linspace(0, 2*np.pi, len(labels), endpoint=False)\n",
    "stats=np.concatenate((stats,[stats[0]]))\n",
    "angles=np.concatenate((angles,[angles[0]]))\n",
    "# 用 Matplotlib 画蜘蛛图\n",
    "fig = plt.figure()\n",
    "ax = fig.add_subplot(111, polar=True)   \n",
    "ax.plot(angles, stats, 'o-', linewidth=2)\n",
    "ax.fill(angles, stats, alpha=0.25)\n",
    "# 设置中文字体\n",
    "font = FontProperties(fname=r\"C:\\Windows\\Fonts\\simhei.ttf\", size=14)  \n",
    "ax.set_thetagrids(angles * 180/np.pi, labels, FontProperties=font)\n",
    "plt.show()"
   ]
  },
  {
   "cell_type": "code",
   "execution_count": null,
   "metadata": {},
   "outputs": [],
   "source": []
  }
 ],
 "metadata": {
  "kernelspec": {
   "display_name": "Python 2",
   "language": "python",
   "name": "python2"
  },
  "language_info": {
   "codemirror_mode": {
    "name": "ipython",
    "version": 2
   },
   "file_extension": ".py",
   "mimetype": "text/x-python",
   "name": "python",
   "nbconvert_exporter": "python",
   "pygments_lexer": "ipython2",
   "version": "2.7.6"
  }
 },
 "nbformat": 4,
 "nbformat_minor": 0
}
