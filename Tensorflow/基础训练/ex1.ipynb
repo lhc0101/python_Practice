{
 "cells": [
  {
   "cell_type": "code",
   "execution_count": 3,
   "metadata": {
    "collapsed": true
   },
   "outputs": [
    {
     "name": "stdout",
     "output_type": "stream",
     "text": [
      "['a', 'b', 'c', 'd']\n"
     ]
    }
   ],
   "source": [
    "lists = ['a','b','c']\n",
    "lists.append('d')\n",
    "print (lists)\n",
    "# print (len(lists))\n",
    "# lists.insert(0,'mm')\n",
    "# lists.pop()\n",
    "# print (lists)"
   ]
  },
  {
   "cell_type": "code",
   "execution_count": 6,
   "metadata": {},
   "outputs": [
    {
     "name": "stdout",
     "output_type": "stream",
     "text": [
      "4\n"
     ]
    }
   ],
   "source": [
    "lists = ['a','b','c']\n",
    "lists.append('d')\n",
    "# print (lists)\n",
    "print (len(lists))\n",
    "# lists.insert(0,'mm')"
   ]
  },
  {
   "cell_type": "code",
   "execution_count": 10,
   "metadata": {},
   "outputs": [
    {
     "name": "stdout",
     "output_type": "stream",
     "text": [
      "['mm', 'a', 'b', 'c', 'd']\n"
     ]
    }
   ],
   "source": [
    "lists = ['a','b','c']\n",
    "lists.append('d')\n",
    "# print (lists)\n",
    "# # print (len(lists))\n",
    "lists.insert(0,'mm')\n",
    "# lists.pop()\n",
    "print (lists)"
   ]
  },
  {
   "cell_type": "code",
   "execution_count": 11,
   "metadata": {},
   "outputs": [
    {
     "name": "stdout",
     "output_type": "stream",
     "text": [
      "['mm', 'a', 'b', 'c']\n"
     ]
    }
   ],
   "source": [
    "lists = ['a','b','c']\n",
    "lists.append('d')\n",
    "# print (lists)\n",
    "# # print (len(lists))\n",
    "lists.insert(0,'mm')\n",
    "lists.pop()\n",
    "print (lists)"
   ]
  },
  {
   "cell_type": "code",
   "execution_count": 12,
   "metadata": {},
   "outputs": [
    {
     "name": "stdout",
     "output_type": "stream",
     "text": [
      "tupleA\n"
     ]
    }
   ],
   "source": [
    "tuples = ('tupleA','tupleB')\n",
    "print (tuples[0])\n"
   ]
  },
  {
   "cell_type": "code",
   "execution_count": 13,
   "metadata": {},
   "outputs": [
    {
     "name": "stdout",
     "output_type": "stream",
     "text": [
      "{'guanyu': 95, 'zhangfei': 96, 'zhaoyun': 98}\nTrue\n95\n99\n"
     ]
    }
   ],
   "source": [
    "# -*- coding: utf-8 -*\n",
    "# 定义一个 dictionary\n",
    "from typing import Dict\n",
    "\n",
    "score: Dict[str, int] = {'guanyu':95,'zhangfei':96}\n",
    "# 添加一个元素\n",
    "score['zhaoyun'] = 98\n",
    "print (score)\n",
    "# 删除一个元素\n",
    "score.pop('zhangfei')\n",
    "# 查看 key 是否存在\n",
    "print ('guanyu' in score)\n",
    "# 查看一个 key 对应的值\n",
    "print (score.get('guanyu'))\n",
    "print (score.get('yase',99))\n"
   ]
  },
  {
   "cell_type": "code",
   "execution_count": 14,
   "metadata": {},
   "outputs": [
    {
     "name": "stdout",
     "output_type": "stream",
     "text": [
      "{'c', 'a', 'd'}\nTrue\n"
     ]
    }
   ],
   "source": [
    "s = set(['a', 'b', 'c'])\n",
    "s.add('d')\n",
    "s.remove('b')\n",
    "print (s)\n",
    "print ('c' in s)"
   ]
  },
  {
   "cell_type": "code",
   "execution_count": 22,
   "metadata": {},
   "outputs": [
    {
     "name": "stdout",
     "output_type": "stream",
     "text": [
      "{'c', 'a', 'd'}\n"
     ]
    }
   ],
   "source": [
    "s = set(['a', 'b', 'c'])\n",
    "s.add('d')\n",
    "s.remove('b')\n",
    "print (s)\n"
   ]
  },
  {
   "cell_type": "code",
   "execution_count": 30,
   "metadata": {},
   "outputs": [
    {
     "name": "stdout",
     "output_type": "stream",
     "text": [
      "(3,)\n(3, 3)\nint32\n[[ 1  2  3]\n [ 4 10  6]\n [ 7  8  9]]\n"
     ]
    }
   ],
   "source": [
    "import numpy as np\n",
    "a = np.array([1, 2, 3])\n",
    "b = np.array([[1, 2, 3], [4, 5, 6], [7, 8, 9]])\n",
    "b[1,1]=10\n",
    "print(a.shape)\n",
    "print(b.shape)\n",
    "print(a.dtype)\n",
    "print(b)"
   ]
  },
  {
   "cell_type": "code",
   "execution_count": 79,
   "metadata": {},
   "outputs": [
    {
     "name": "stdout",
     "output_type": "stream",
     "text": [
      "28.25\n77.5\n93.25\n93.75\n"
     ]
    }
   ],
   "source": [
    "import numpy as np\n",
    "persontype = np.dtype({\n",
    "    'names':['name', 'age', 'chinese', 'math', 'english'],\n",
    "    'formats':['S32','i', 'i', 'i', 'f']})\n",
    "peoples = np.array([(\"ZhangFei\",32,75,100, 90),(\"GuanYu\",24,85,96,88.5),\n",
    "       (\"ZhaoYun\",28,85,92,96.5),(\"HuangZhong\",29,65,85,100)],\n",
    "    dtype=persontype)\n",
    "ages = peoples[:]['age']\n",
    "chineses = peoples[:]['chinese']\n",
    "maths = peoples[:]['math']\n",
    "englishs = peoples[:]['english']\n",
    "print(np.mean(ages))\n",
    "print(np.mean(chineses))\n",
    "print(np.mean(maths))\n",
    "print(np.mean(englishs))"
   ]
  },
  {
   "cell_type": "code",
   "execution_count": 74,
   "metadata": {},
   "outputs": [
    {
     "name": "stdout",
     "output_type": "stream",
     "text": [
      "[1 3 5 7 9]\n[1. 3. 5. 7. 9.]\n[ 2.  6. 10. 14. 18.]\n[0. 0. 0. 0. 0.]\n[ 1.  9. 25. 49. 81.]\n[1. 1. 1. 1. 1.]\n[1.00000000e+00 2.70000000e+01 3.12500000e+03 8.23543000e+05\n 3.87420489e+08]\n[0. 0. 0. 0. 0.]\n"
     ]
    }
   ],
   "source": [
    "x1 = np.arange(1,11,2)\n",
    "x2 = np.linspace(1,9,5,endpoint=True, retstep=False, dtype=None)\n",
    "print(x1)\n",
    "print(x2)\n",
    "print(np.add(x1, x2))\n",
    "print(np.subtract(x1, x2))\n",
    "print(np.multiply(x1, x2))\n",
    "print(np.divide(x1, x2))\n",
    "print(np.power(x1, x2))\n",
    "print(np.remainder(x1, x2))"
   ]
  },
  {
   "cell_type": "code",
   "execution_count": 80,
   "metadata": {},
   "outputs": [
    {
     "name": "stdout",
     "output_type": "stream",
     "text": [
      "1\n[1 2 3]\n[1 4 7]\n9\n[7 8 9]\n[3 6 9]\n"
     ]
    }
   ],
   "source": [
    "import numpy as np\n",
    "a = np.array([[1,2,3], [4,5,6], [7,8,9]])\n",
    "print(np.amin(a))\n",
    "print(np.amin(a,0))\n",
    "print(np.amin(a,1))\n",
    "print(np.amax(a))\n",
    "print(np.amax(a,0))\n",
    "print(np.amax(a,1))"
   ]
  },
  {
   "cell_type": "code",
   "execution_count": 85,
   "metadata": {},
   "outputs": [
    {
     "name": "stdout",
     "output_type": "stream",
     "text": [
      "[[0 1]\n [2 3]]\n3\n[2 3]\n[1 3]\n"
     ]
    }
   ],
   "source": [
    "a = np.arange(4).reshape((2,2))\n",
    "print(a)\n",
    "print(np.amax(a)          ) # Maximum of the flattened array)\n",
    "print(np.amax(a, axis=0)  ) # Maxima along the first axis)\n",
    "print(np.amax(a, axis=1)   )# Maxima along the second axis)"
   ]
  },
  {
   "cell_type": "code",
   "execution_count": 86,
   "metadata": {},
   "outputs": [
    {
     "name": "stdout",
     "output_type": "stream",
     "text": [
      "8\n[6 6 6]\n[2 2 2]\n"
     ]
    }
   ],
   "source": [
    "a = np.array([[1,2,3], [4,5,6], [7,8,9]])\n",
    "print(np.ptp(a))\n",
    "print(np.ptp(a,0))\n",
    "print(np.ptp(a,1))"
   ]
  },
  {
   "cell_type": "code",
   "execution_count": 87,
   "metadata": {},
   "outputs": [
    {
     "name": "stdout",
     "output_type": "stream",
     "text": [
      "5.0\n[4. 5. 6.]\n[2. 5. 8.]\n"
     ]
    }
   ],
   "source": [
    "a = np.array([[1,2,3], [4,5,6], [7,8,9]])\n",
    "print(np.percentile(a, 50))\n",
    "print(np.percentile(a, 50, axis=0))\n",
    "print(np.percentile(a, 50, axis=1))"
   ]
  },
  {
   "cell_type": "code",
   "execution_count": 99,
   "metadata": {},
   "outputs": [
    {
     "name": "stdout",
     "output_type": "stream",
     "text": [
      "[[10  7  4]\n [ 3  2  1]]\n3.5\n[6.5 4.5 2.5]\n[7. 2.]\n[[7.]\n [2.]]\n[6.5 4.5 2.5]\n[6.5 4.5 2.5]\n[7. 2.]\n"
     ]
    }
   ],
   "source": [
    "a = np.array([[10, 7, 4], [3, 2, 1]])\n",
    "print(a)\n",
    "print(np.percentile(a, 50))\n",
    "print(np.percentile(a, 50, axis=0))\n",
    "print(np.percentile(a, 50, axis=1))\n",
    "print( np.percentile(a, 50, axis=1, keepdims=True))\n",
    "\n",
    "m = np.percentile(a, 50, axis=0)\n",
    "out = np.zeros_like(m)\n",
    "print(np.percentile(a, 50, axis=0, out=out))\n",
    "print(m)\n",
    "b = a.copy()\n",
    "print(np.percentile(b, 50, axis=1, overwrite_input=True))\n",
    "# assert not np.all(a == b)"
   ]
  },
  {
   "cell_type": "code",
   "execution_count": 100,
   "metadata": {},
   "outputs": [
    {
     "name": "stdout",
     "output_type": "stream",
     "text": [
      "5.0\n[4. 5. 6.]\n[2. 5. 8.]\n5.0\n[4. 5. 6.]\n[2. 5. 8.]\n"
     ]
    }
   ],
   "source": [
    "a = np.array([[1,2,3], [4,5,6], [7,8,9]])\n",
    "# 求中位数\n",
    "print(np.median(a))\n",
    "print(np.median(a, axis=0))\n",
    "print(np.median(a, axis=1))\n",
    "# 求平均数\n",
    "print(np.mean(a))\n",
    "print(np.mean(a, axis=0))\n",
    "print(np.mean(a, axis=1))"
   ]
  },
  {
   "cell_type": "code",
   "execution_count": 101,
   "metadata": {},
   "outputs": [
    {
     "name": "stdout",
     "output_type": "stream",
     "text": [
      "2.5\n3.0\n"
     ]
    }
   ],
   "source": [
    "a = np.array([1,2,3,4])\n",
    "wts = np.array([1,2,3,4])\n",
    "print(np.average(a))\n",
    "print(np.average(a,weights=wts))\n"
   ]
  },
  {
   "cell_type": "code",
   "execution_count": 130,
   "metadata": {},
   "outputs": [
    {
     "name": "stdout",
     "output_type": "stream",
     "text": [
      "2.5\n(4.0, 55.0)\n[[0 1]\n [2 3]\n [4 5]]\n"
     ]
    }
   ],
   "source": [
    "data = np.arange(1,5)\n",
    "print(np.average(data))\n",
    "print(np.average(range(1,11), weights=range(10,0,-1),returned = True))\n",
    "data2 = np.arange(6).reshape((3,2))\n",
    "print(data2)"
   ]
  },
  {
   "cell_type": "code",
   "execution_count": 131,
   "metadata": {},
   "outputs": [
    {
     "name": "stdout",
     "output_type": "stream",
     "text": [
      "1.118033988749895\n1.25\n"
     ]
    }
   ],
   "source": [
    "a = np.array([1,2,3,4])\n",
    "print(np.std(a))\n",
    "print(np.var(a))\n"
   ]
  },
  {
   "cell_type": "code",
   "execution_count": 132,
   "metadata": {},
   "outputs": [
    {
     "name": "stdout",
     "output_type": "stream",
     "text": [
      "[[2 3 4]\n [1 2 4]]\n[1 2 2 3 4 4]\n[[2 3 1]\n [4 4 2]]\n[[2 3 4]\n [1 2 4]]\n"
     ]
    }
   ],
   "source": [
    "a = np.array([[4,3,2],[2,4,1]])\n",
    "print(np.sort(a))\n",
    "print(np.sort(a, axis=None))\n",
    "print(np.sort(a, axis=0)  )\n",
    "print(np.sort(a, axis=1)  )"
   ]
  },
  {
   "cell_type": "code",
   "execution_count": 140,
   "metadata": {},
   "outputs": [
    {
     "name": "stdout",
     "output_type": "stream",
     "text": [
      "科目 | 平均成绩 | 最小成绩 | 最大成绩 | 方差 | 标准差\n语文 | 84.8 | 66 | 95 | 114.96000000000001 | 10.721940122944169 \n英语 | 84.0 | 65 | 92 | 95.6 | 9.777525249264253 \n数学 | 78.2 | 30 | 98 | 634.56 | 25.19047439013406 \n排名:\n[(b'ZhaoYun', 93, 92, 96), (b'GuanYu', 95, 85, 98), (b'DianWei', 80, 90, 90), (b'HuangZhong', 90, 88, 77), (b'ZhangFei', 66, 65, 30)]\n"
     ]
    }
   ],
   "source": [
    "# -*- coding: utf-8 -*-\n",
    "\"\"\"\n",
    "Created on Sun Jan 20 00:51:28 2019\n",
    "\n",
    "@author: Dachun Li\n",
    "\"\"\"\n",
    "import numpy as np\n",
    "\n",
    "\n",
    "persontype = np.dtype({\n",
    "    'names':['name', 'chinese','english','math' ],\n",
    "    'formats':['S32', 'i', 'i', 'i']})\n",
    "peoples = np.array([        \n",
    "        (\"ZhangFei\",66,65,30),(\"GuanYu\",95,85,98),\n",
    "       (\"ZhaoYun\",93,92,96),(\"HuangZhong\",90,88,77),\n",
    "       (\"DianWei\",80,90,90)],dtype=persontype)\n",
    "#指定的竖列\n",
    "name = peoples[:]['name']\n",
    "chinese = peoples[:]['chinese']\n",
    "english = peoples[:]['english']\n",
    "math = peoples[:]['math']\n",
    "#定义函数用于显示每一排的内容\n",
    "def show(name,cj):\n",
    "    print('{} | {} | {} | {} | {} | {} '\n",
    "          .format(name,np.mean(cj),np.min(cj),np.max(cj),np.var(cj),np.std(cj)))\n",
    "\n",
    "print(\"科目 | 平均成绩 | 最小成绩 | 最大成绩 | 方差 | 标准差\")\n",
    "show(\"语文\", chinese)\n",
    "show(\"英语\", english)\n",
    "show(\"数学\", math)\n",
    "\n",
    "print(\"排名:\")\n",
    "#用sorted函数进行排序\n",
    "ranking = sorted(peoples,key=lambda x:x[1]+x[2]+x[3], reverse=True)\n",
    "print(ranking)\n"
   ]
  },
  {
   "cell_type": "code",
   "execution_count": null,
   "metadata": {},
   "outputs": [],
   "source": []
  }
 ],
 "metadata": {
  "kernelspec": {
   "display_name": "Python 2",
   "language": "python",
   "name": "python2"
  },
  "language_info": {
   "codemirror_mode": {
    "name": "ipython",
    "version": 2
   },
   "file_extension": ".py",
   "mimetype": "text/x-python",
   "name": "python",
   "nbconvert_exporter": "python",
   "pygments_lexer": "ipython2",
   "version": "2.7.6"
  }
 },
 "nbformat": 4,
 "nbformat_minor": 0
}
